{
 "cells": [
  {
   "cell_type": "markdown",
   "id": "39875302-6b6d-4adc-83f1-737e76686ad5",
   "metadata": {},
   "source": [
    "## Automating Disaster Mapping Processes\n",
    "### Cases from flood disasters in the cities of the Global South\n",
    "\n",
    "This code will turn raster data into an interactive web map dispalying the extent of flooding events and its effects on the local population and infrastructure."
   ]
  },
  {
   "cell_type": "code",
   "execution_count": 1,
   "id": "cd0ed74f-4f90-4a38-84d4-bfc007aa05e4",
   "metadata": {},
   "outputs": [],
   "source": [
    "import pandas as pd\n",
    "import geopandas as gpd\n",
    "import matplotlib\n",
    "import matplotlib.pyplot as plt\n",
    "import folium\n",
    "from folium.plugins import MarkerCluster\n",
    "import osmnx as ox\n",
    "import shapely\n",
    "from shapely.geometry import Point, LineString, Polygon, shape\n",
    "from shapely.geometry import box\n",
    "import rasterio as rio\n",
    "import rasterio.features\n",
    "from rasterio.plot import show\n",
    "from rasterio.plot import show_hist\n",
    "from rasterio.features import shapes\n",
    "from rasterio.mask import mask\n",
    "from fiona.crs import from_epsg\n",
    "import pycrs\n",
    "import os\n",
    "import mapclassify"
   ]
  },
  {
   "cell_type": "markdown",
   "id": "0d36fdc7-e93f-4553-b62d-c6bd63a1519e",
   "metadata": {
    "tags": []
   },
   "source": [
    "### Raster transformations"
   ]
  },
  {
   "cell_type": "code",
   "execution_count": 64,
   "id": "d41ad3d6-f87f-42b6-942a-ed12ec4baade",
   "metadata": {},
   "outputs": [],
   "source": [
    "# Filepath for WSF raster file\n",
    "wsf_fp = r'/Users/ohtonygren/Yliopisto/Gradu/Data/WSF/Bangkok_WSF2019population_10m.tif'\n",
    "\n",
    "wsf_raster = rio.open(wsf_fp)\n",
    "\n",
    "# Filepath for ICEYE raster file\n",
    "iceye_fp = r'/Users/ohtonygren/Yliopisto/Gradu/Data/ICEYE/Bangkok_iceye.tif'\n",
    "\n",
    "iceye_orig = rio.open(iceye_fp)"
   ]
  },
  {
   "cell_type": "code",
   "execution_count": 66,
   "id": "e7e51d80-bb2e-4c51-99cd-5b717df1730c",
   "metadata": {},
   "outputs": [
    {
     "name": "stdout",
     "output_type": "stream",
     "text": [
      "Progress: Raster reprojection done.\n"
     ]
    }
   ],
   "source": [
    "from rasterio.warp import calculate_default_transform, reproject, Resampling\n",
    "\n",
    "# Getting CRS from the WSF data\n",
    "dstCrs = wsf_raster.crs\n",
    "\n",
    "# Calculate transform array and shape of reprojected layer\n",
    "transform, width, height = calculate_default_transform(iceye_orig.crs, dstCrs, iceye_orig.width, iceye_orig.height, *iceye_orig.bounds)\n",
    "\n",
    "# Working of the meta for the destination raster\n",
    "kwargs = iceye_orig.meta.copy()\n",
    "kwargs.update({'crs': dstCrs, 'transform': transform, 'width': width, 'height': height})\n",
    "\n",
    "iceye_raster = rio.open(iceye_fp, 'w', **kwargs)\n",
    "\n",
    "# Reproject and save raster band data\n",
    "for i in range(1, iceye_raster.count +1):\n",
    "    reproject(\n",
    "        source=rio.band(iceye_orig, i),\n",
    "        destination=rio.band(iceye_raster, i),\n",
    "        src_crs=iceye_raster.crs,\n",
    "        dstCrs=dstCrs,\n",
    "        resampling=Resampling.nearest)\n",
    "\n",
    "# Close destination raster    \n",
    "iceye_raster.close()\n",
    "\n",
    "print('Progress: Raster reprojection done.')\n",
    "\n",
    "# Reopening the raster that is now projected to EPSG: 4326\n",
    "iceye_wgs84 = rio.open(iceye_fp)"
   ]
  },
  {
   "cell_type": "markdown",
   "id": "616889b1-ca35-492b-8f1f-c0fd09e502ec",
   "metadata": {
    "tags": []
   },
   "source": [
    "### Vector transformations"
   ]
  },
  {
   "cell_type": "code",
   "execution_count": 67,
   "id": "b3516062-5818-4778-9bf1-b876817e5e77",
   "metadata": {},
   "outputs": [
    {
     "name": "stdout",
     "output_type": "stream",
     "text": [
      "Progress: Polygonizing done.\n"
     ]
    }
   ],
   "source": [
    "# Polygonizing the raster file\n",
    "mask = None\n",
    "with rio.Env():\n",
    "    with rio.open(iceye_fp) as src:\n",
    "        image = src.read(1) # first band\n",
    "        results = (\n",
    "        {'properties': {'raster_val': v}, 'geometry': s}\n",
    "        for i, (s, v) \n",
    "        in enumerate(\n",
    "            shapes(image, mask=mask, transform=src.transform)))\n",
    "        \n",
    "geoms = list(results)\n",
    "\n",
    "# Creating a GeoDataFrame from the polygonized raster\n",
    "iceye_breaks = gpd.GeoDataFrame.from_features(geoms)\n",
    "\n",
    "# Get indexes where 'raster_val' column has value 'min'\n",
    "indexNames = iceye_breaks[iceye_breaks['raster_val'] == iceye_breaks['raster_val'].min()].index\n",
    "# Delete 'min' rows indexes from dataframe as they are Null values in the raster file\n",
    "iceye_breaks.drop(indexNames, inplace=True)\n",
    "\n",
    "print('Progress: Polygonizing done.')"
   ]
  },
  {
   "cell_type": "code",
   "execution_count": 70,
   "id": "89984019-c50c-4cd7-bf45-7b9c2f5a4db3",
   "metadata": {},
   "outputs": [
    {
     "data": {
      "text/html": [
       "<div>\n",
       "<style scoped>\n",
       "    .dataframe tbody tr th:only-of-type {\n",
       "        vertical-align: middle;\n",
       "    }\n",
       "\n",
       "    .dataframe tbody tr th {\n",
       "        vertical-align: top;\n",
       "    }\n",
       "\n",
       "    .dataframe thead th {\n",
       "        text-align: right;\n",
       "    }\n",
       "</style>\n",
       "<table border=\"1\" class=\"dataframe\">\n",
       "  <thead>\n",
       "    <tr style=\"text-align: right;\">\n",
       "      <th></th>\n",
       "      <th>naturalBreaks</th>\n",
       "      <th>geometry</th>\n",
       "      <th>raster_val</th>\n",
       "    </tr>\n",
       "  </thead>\n",
       "  <tbody>\n",
       "    <tr>\n",
       "      <th>0</th>\n",
       "      <td>0</td>\n",
       "      <td>MULTIPOLYGON (((100.33636 13.67740, 100.33636 ...</td>\n",
       "      <td>0.128244</td>\n",
       "    </tr>\n",
       "    <tr>\n",
       "      <th>1</th>\n",
       "      <td>1</td>\n",
       "      <td>MULTIPOLYGON (((100.33911 13.67273, 100.33911 ...</td>\n",
       "      <td>1.083285</td>\n",
       "    </tr>\n",
       "    <tr>\n",
       "      <th>2</th>\n",
       "      <td>2</td>\n",
       "      <td>MULTIPOLYGON (((100.33993 13.65513, 100.33966 ...</td>\n",
       "      <td>1.762310</td>\n",
       "    </tr>\n",
       "    <tr>\n",
       "      <th>3</th>\n",
       "      <td>3</td>\n",
       "      <td>MULTIPOLYGON (((100.34571 13.64715, 100.34571 ...</td>\n",
       "      <td>1.938872</td>\n",
       "    </tr>\n",
       "    <tr>\n",
       "      <th>4</th>\n",
       "      <td>4</td>\n",
       "      <td>MULTIPOLYGON (((100.44416 13.53907, 100.44416 ...</td>\n",
       "      <td>6.357238</td>\n",
       "    </tr>\n",
       "    <tr>\n",
       "      <th>5</th>\n",
       "      <td>5</td>\n",
       "      <td>MULTIPOLYGON (((100.40759 13.71288, 100.40759 ...</td>\n",
       "      <td>9.343607</td>\n",
       "    </tr>\n",
       "  </tbody>\n",
       "</table>\n",
       "</div>"
      ],
      "text/plain": [
       "   naturalBreaks                                           geometry  \\\n",
       "0              0  MULTIPOLYGON (((100.33636 13.67740, 100.33636 ...   \n",
       "1              1  MULTIPOLYGON (((100.33911 13.67273, 100.33911 ...   \n",
       "2              2  MULTIPOLYGON (((100.33993 13.65513, 100.33966 ...   \n",
       "3              3  MULTIPOLYGON (((100.34571 13.64715, 100.34571 ...   \n",
       "4              4  MULTIPOLYGON (((100.44416 13.53907, 100.44416 ...   \n",
       "5              5  MULTIPOLYGON (((100.40759 13.71288, 100.40759 ...   \n",
       "\n",
       "   raster_val  \n",
       "0    0.128244  \n",
       "1    1.083285  \n",
       "2    1.762310  \n",
       "3    1.938872  \n",
       "4    6.357238  \n",
       "5    9.343607  "
      ]
     },
     "execution_count": 70,
     "metadata": {},
     "output_type": "execute_result"
    }
   ],
   "source": [
    "# Rounding up unnecessary decimals\n",
    "iceye_breaks['raster_val'].round(3)\n",
    "\n",
    "# Removing all rows with the value of zero\n",
    "iceye_breaks[iceye_breaks.raster_val != 0.000]\n",
    "\n",
    "# Classifying the data by natural breaks into 6 classes\n",
    "breaks = mapclassify.NaturalBreaks.make(k=6)\n",
    "iceye_breaks['naturalBreaks'] = iceye_breaks[['raster_val']].apply(breaks)\n",
    "\n",
    "# Dissolving the data into the 6 classified breaks\n",
    "iceye_breaks.dissolve(by='naturalBreaks', as_index=False)"
   ]
  },
  {
   "cell_type": "markdown",
   "id": "de5abedd-2f01-4f85-ad79-5172e00e69e7",
   "metadata": {
    "tags": []
   },
   "source": [
    "### Raster clipping and affected population estimation"
   ]
  },
  {
   "cell_type": "code",
   "execution_count": 8,
   "id": "572771e9-fbcc-42dd-972c-845116470d15",
   "metadata": {},
   "outputs": [],
   "source": [
    "results = []\n",
    "\n",
    "for i in iceye_breaks['naturalBreaks']:\n",
    "        \n",
    "    roi = iceye_breaks[iceye_breaks.naturalBreaks == i]\n",
    "        \n",
    "    gtraster, bound = rio.mask.mask(wsf_raster, roi['geometry'], crop=True)\n",
    "        \n",
    "    results.append(gtraster[0][gtraster[0]>0].sum())\n",
    "    \n",
    "iceye_breaks['population'] = results\n",
    "\n",
    "# Dividing by 1000 because the WSF data has been multiplied by 1000 to save the file as integer\n",
    "iceye_breaks['population'] = iceye_breaks['population'].div(1000).round(0)"
   ]
  },
  {
   "cell_type": "code",
   "execution_count": 9,
   "id": "3cf9cd18-ec27-409f-862e-2a2a9389706f",
   "metadata": {},
   "outputs": [
    {
     "data": {
      "text/html": [
       "<div>\n",
       "<style scoped>\n",
       "    .dataframe tbody tr th:only-of-type {\n",
       "        vertical-align: middle;\n",
       "    }\n",
       "\n",
       "    .dataframe tbody tr th {\n",
       "        vertical-align: top;\n",
       "    }\n",
       "\n",
       "    .dataframe thead th {\n",
       "        text-align: right;\n",
       "    }\n",
       "</style>\n",
       "<table border=\"1\" class=\"dataframe\">\n",
       "  <thead>\n",
       "    <tr style=\"text-align: right;\">\n",
       "      <th></th>\n",
       "      <th>naturalBreaks</th>\n",
       "      <th>geometry</th>\n",
       "      <th>raster_val</th>\n",
       "      <th>population</th>\n",
       "    </tr>\n",
       "  </thead>\n",
       "  <tbody>\n",
       "    <tr>\n",
       "      <th>0</th>\n",
       "      <td>0</td>\n",
       "      <td>MULTIPOLYGON (((100.33636 13.67740, 100.33636 ...</td>\n",
       "      <td>0.128</td>\n",
       "      <td>853400.0</td>\n",
       "    </tr>\n",
       "    <tr>\n",
       "      <th>1</th>\n",
       "      <td>1</td>\n",
       "      <td>MULTIPOLYGON (((100.33911 13.67273, 100.33911 ...</td>\n",
       "      <td>1.083</td>\n",
       "      <td>381778.0</td>\n",
       "    </tr>\n",
       "    <tr>\n",
       "      <th>2</th>\n",
       "      <td>2</td>\n",
       "      <td>MULTIPOLYGON (((100.33966 13.65568, 100.33966 ...</td>\n",
       "      <td>1.762</td>\n",
       "      <td>152200.0</td>\n",
       "    </tr>\n",
       "    <tr>\n",
       "      <th>3</th>\n",
       "      <td>3</td>\n",
       "      <td>MULTIPOLYGON (((100.34571 13.64715, 100.34571 ...</td>\n",
       "      <td>1.939</td>\n",
       "      <td>47705.0</td>\n",
       "    </tr>\n",
       "    <tr>\n",
       "      <th>4</th>\n",
       "      <td>4</td>\n",
       "      <td>MULTIPOLYGON (((100.44416 13.53907, 100.44416 ...</td>\n",
       "      <td>6.357</td>\n",
       "      <td>4238.0</td>\n",
       "    </tr>\n",
       "    <tr>\n",
       "      <th>5</th>\n",
       "      <td>5</td>\n",
       "      <td>MULTIPOLYGON (((100.40759 13.71288, 100.40759 ...</td>\n",
       "      <td>9.344</td>\n",
       "      <td>824.0</td>\n",
       "    </tr>\n",
       "  </tbody>\n",
       "</table>\n",
       "</div>"
      ],
      "text/plain": [
       "   naturalBreaks                                           geometry  \\\n",
       "0              0  MULTIPOLYGON (((100.33636 13.67740, 100.33636 ...   \n",
       "1              1  MULTIPOLYGON (((100.33911 13.67273, 100.33911 ...   \n",
       "2              2  MULTIPOLYGON (((100.33966 13.65568, 100.33966 ...   \n",
       "3              3  MULTIPOLYGON (((100.34571 13.64715, 100.34571 ...   \n",
       "4              4  MULTIPOLYGON (((100.44416 13.53907, 100.44416 ...   \n",
       "5              5  MULTIPOLYGON (((100.40759 13.71288, 100.40759 ...   \n",
       "\n",
       "   raster_val  population  \n",
       "0       0.128    853400.0  \n",
       "1       1.083    381778.0  \n",
       "2       1.762    152200.0  \n",
       "3       1.939     47705.0  \n",
       "4       6.357      4238.0  \n",
       "5       9.344       824.0  "
      ]
     },
     "execution_count": 9,
     "metadata": {},
     "output_type": "execute_result"
    }
   ],
   "source": [
    "iceye_breaks"
   ]
  },
  {
   "cell_type": "markdown",
   "id": "2c5a1cd0-86ab-44c4-8aac-8b75b809c972",
   "metadata": {},
   "source": [
    "#### Getting OSM data from flooded area"
   ]
  },
  {
   "cell_type": "code",
   "execution_count": 37,
   "id": "fbad5f21-9a21-48cb-b192-085a1a76cf09",
   "metadata": {},
   "outputs": [
    {
     "name": "stderr",
     "output_type": "stream",
     "text": [
      "/Library/Frameworks/Python.framework/Versions/3.9/lib/python3.9/site-packages/osmnx/utils_geo.py:335: ShapelyDeprecationWarning: Iteration over multi-part geometries is deprecated and will be removed in Shapely 2.0. Use the `geoms` property to access the constituent parts of a multi-part geometry.\n",
      "  for polygon in geometry:\n",
      "/Library/Frameworks/Python.framework/Versions/3.9/lib/python3.9/site-packages/osmnx/geometries.py:805: ShapelyDeprecationWarning: __len__ for multi-part geometries is deprecated and will be removed in Shapely 2.0. Check the length of the `geoms` property instead to get the  number of parts of a multi-part geometry.\n",
      "  for merged_outer_linestring in list(merged_outer_linestrings):\n",
      "/Library/Frameworks/Python.framework/Versions/3.9/lib/python3.9/site-packages/osmnx/geometries.py:805: ShapelyDeprecationWarning: Iteration over multi-part geometries is deprecated and will be removed in Shapely 2.0. Use the `geoms` property to access the constituent parts of a multi-part geometry.\n",
      "  for merged_outer_linestring in list(merged_outer_linestrings):\n",
      "/Library/Frameworks/Python.framework/Versions/3.9/lib/python3.9/site-packages/osmnx/utils_geo.py:426: ShapelyDeprecationWarning: Iteration over multi-part geometries is deprecated and will be removed in Shapely 2.0. Use the `geoms` property to access the constituent parts of a multi-part geometry.\n",
      "  for poly in multipoly:\n",
      "/Library/Frameworks/Python.framework/Versions/3.9/lib/python3.9/site-packages/osmnx/utils_geo.py:335: ShapelyDeprecationWarning: Iteration over multi-part geometries is deprecated and will be removed in Shapely 2.0. Use the `geoms` property to access the constituent parts of a multi-part geometry.\n",
      "  for polygon in geometry:\n",
      "/Library/Frameworks/Python.framework/Versions/3.9/lib/python3.9/site-packages/osmnx/utils_geo.py:426: ShapelyDeprecationWarning: Iteration over multi-part geometries is deprecated and will be removed in Shapely 2.0. Use the `geoms` property to access the constituent parts of a multi-part geometry.\n",
      "  for poly in multipoly:\n"
     ]
    }
   ],
   "source": [
    "# Creating a constant value to use for dissolve\n",
    "iceye_breaks['dissolve'] = 1\n",
    "\n",
    "# Dissolving all the flooded polygons into one for extent of flooding\n",
    "iceye_dissolve = iceye_breaks.dissolve(by='dissolve')\n",
    "\n",
    "# Turning the GeoDataFrame into a shapely polygon for OSMnx\n",
    "osm_aoi = flood_aoi.iloc[0]['geometry']\n",
    "\n",
    "# IF THERE ARE ISSUES WITH THE SCRIPT, TRY REMOVING THE FOLLOWING PIECE OF CODE\n",
    "# Ignore Shapely deprecation warnings to clean up code, warning are due to the OSMnx module and future Shapely 2.0 upgrade \n",
    "import warnings\n",
    "warnings.filterwarnings(\"ignore\")\n",
    "\n",
    "# Getting OpenStreetMap data from the flooded area\n",
    "hospital = ox.geometries.geometries_from_polygon(osm_aoi, tags={'amenity':'hospital'})\n",
    "pharmacy = ox.geometries.geometries_from_polygon(osm_aoi, tags={'amenity':'pharmacy'})\n",
    "buildings = ox.geometries.geometries_from_polygon(osm_aoi, tags={'building': True})\n",
    "\n",
    "# Removing unnecessary columns\n",
    "buildings = buildings[['geometry', 'building', 'name:en']]"
   ]
  },
  {
   "cell_type": "code",
   "execution_count": 14,
   "id": "c99799e1-dc9a-4ff5-ac17-b04e2017cc39",
   "metadata": {},
   "outputs": [],
   "source": [
    "buildings = buildings[['geometry', 'building']]"
   ]
  },
  {
   "cell_type": "code",
   "execution_count": 15,
   "id": "3d4c1666-6ffc-4a62-9e29-74e3769f91df",
   "metadata": {},
   "outputs": [
    {
     "name": "stderr",
     "output_type": "stream",
     "text": [
      "/var/folders/kt/ttp65kq11zdgh8vfjd7dtgm40000gn/T/ipykernel_1722/2227512806.py:1: UserWarning: Geometry is in a geographic CRS. Results from 'area' are likely incorrect. Use 'GeoSeries.to_crs()' to re-project geometries to a projected CRS before this operation.\n",
      "\n",
      "  build_test = build_test[build_test.area != 0.000]\n"
     ]
    }
   ],
   "source": [
    "buildings = build_test[build_test.area != 0.000]"
   ]
  },
  {
   "cell_type": "markdown",
   "id": "8eecf1bb-ba3b-4f55-9f7a-9b4fe2a6060a",
   "metadata": {
    "tags": []
   },
   "source": [
    "## FOLIUM"
   ]
  },
  {
   "cell_type": "code",
   "execution_count": 48,
   "id": "6090fa45-bb44-4075-b237-cabbdc3c21d0",
   "metadata": {},
   "outputs": [],
   "source": [
    "# Reprojecting the data to a CRS that uses a metric system instead of degrees for the buffering\n",
    "hospital = hospital.to_crs(epsg=3857)\n",
    "pharmacy = pharmacy.to_crs(epsg=3857)\n",
    "\n",
    "# Calculating the centroids of all the points & polygons in the pharmacy dataset\n",
    "hospital['geometry'] = hospital['geometry'].centroid\n",
    "pharmacy['geometry'] = pharmacy['geometry'].centroid\n",
    "\n",
    "# Reprojecting the data back to a CRS that is better for plotting\n",
    "hospital = hospital.to_crs(epsg=4326)\n",
    "pharmacy = pharmacy.to_crs(epsg=4326)\n",
    "\n",
    "# Getting x and y coordinates of hospitals for mapping\n",
    "hospital['x'] = hospital['geometry'].apply(lambda geom: geom.x)\n",
    "hospital['y'] = hospital['geometry'].apply(lambda geom: geom.y)\n",
    "\n",
    "# Getting x and y coordinates of pharmacies for mapping\n",
    "pharmacy['x'] = pharmacy['geometry'].apply(lambda geom: geom.x)\n",
    "pharmacy['y'] = pharmacy['geometry'].apply(lambda geom: geom.y)\n",
    "\n",
    "# Creating a list of coordinate pairs\n",
    "hospitals = list(zip(hospital['y'], hospital['x']))\n",
    "pharmacies = list(zip(pharmacy['y'], pharmacy['x']))\n",
    "\n",
    "# Adding clusters of points to map\n",
    "hospital_cluster = MarkerCluster()\n",
    "pharma_cluster = MarkerCluster()\n",
    "\n",
    "# Adding custom labels and icons to every hospital and pharmacy location\n",
    "for point in range(0, len(hospitals)):\n",
    "    folium.Marker(hospitals[point], popup=hospital.iloc[point]['name:en'], icon=folium.Icon(color='red', icon='fa-h-square', prefix='fa')).add_to(hospital_cluster)\n",
    "    \n",
    "for point in range(0, len(pharmacies)):\n",
    "    folium.Marker(pharmacies[point], popup=pharmacy.iloc[point]['name:en'], icon=folium.Icon(color='green', icon='fa-medkit', prefix='fa')).add_to(pharma_cluster)"
   ]
  },
  {
   "cell_type": "code",
   "execution_count": 57,
   "id": "b0e5a0d3-ffe2-422b-9c7f-368ae9c19a9d",
   "metadata": {},
   "outputs": [],
   "source": [
    "# Creating Folium map\n",
    "m = folium.Map(location=[13.7, 100.6],\n",
    "              zoom_start=11,\n",
    "              control_scale=True,\n",
    "              tiles='CartoDB Positron')\n",
    "\n",
    "# Adding clusters to map\n",
    "hospital_cluster.add_to(m)\n",
    "pharma_cluster.add_to(m)\n",
    "\n",
    "# Setting a CRS to the data\n",
    "iceye_breaks.crs = 'epsg:4326'\n",
    "\n",
    "# Creating a Geo-id that Folium needs for plotting, it needs to have a unique indetifier for each row (Tenkanen & al. 2022)\n",
    "iceye_breaks['geoid'] = iceye_breaks.index.astype(str)\n",
    "\n",
    "# Plotting flood data\n",
    "folium.Choropleth(geo_data=iceye_breaks,\n",
    "                 name='Flood map',\n",
    "                 data=iceye_breaks,\n",
    "                 columns=['geoid', 'naturalBreaks'],\n",
    "                 key_on='feature.id',\n",
    "                 fill_color='Blues',\n",
    "                 fill_opacity=0.7,\n",
    "                 line_opacity=0.2,\n",
    "                 line_color='white',\n",
    "                 line_weight=0,\n",
    "                 highlight=False,\n",
    "                 smooth_factor=1.0,\n",
    "                 legend_name='Flood in Bangkok').add_to(m)\n",
    "\n",
    "# Adding building footprints to map\n",
    "build_j = buildings.to_json()\n",
    "build_j = folium.GeoJson(data=geo_j, style_function=lambda x: {'fillColor': 'red', 'color': 'red'})\n",
    "build_j.add_to(m)"
   ]
  },
  {
   "cell_type": "code",
   "execution_count": 63,
   "id": "069b084c-6297-4a5c-804f-cb33f16d2aee",
   "metadata": {},
   "outputs": [],
   "source": [
    "m.save(outfile = 'test.html')"
   ]
  },
  {
   "cell_type": "markdown",
   "id": "52445f4b-3da6-471e-a26c-9dcdef05dd0c",
   "metadata": {
    "jp-MarkdownHeadingCollapsed": true,
    "tags": []
   },
   "source": [
    "### MAPBOX"
   ]
  },
  {
   "cell_type": "code",
   "execution_count": null,
   "id": "09234f0c-72f9-4e9e-ad6b-43ace10dc04a",
   "metadata": {},
   "outputs": [],
   "source": [
    "test_gjson = test.to_json()"
   ]
  },
  {
   "cell_type": "code",
   "execution_count": null,
   "id": "9d4eeb2a-a155-430c-908f-049a4c52fcd7",
   "metadata": {},
   "outputs": [],
   "source": [
    "token = os.getenv('pk.eyJ1Ijoib2h0b255Z3JlbiIsImEiOiJja2tyMmowZ2YwZTU4MndvNm4yMW84OXhrIn0.lwnlCLxsvFIPqn7yzyGxXw')"
   ]
  },
  {
   "cell_type": "code",
   "execution_count": null,
   "id": "19e9e70c-260c-4577-8ce4-cd5c10c420c9",
   "metadata": {},
   "outputs": [],
   "source": [
    "from mapboxgl.viz import *\n",
    "from mapboxgl.utils import *\n",
    "import mapclassify"
   ]
  },
  {
   "cell_type": "code",
   "execution_count": null,
   "id": "5e0240c9-d44c-4ca8-9284-4d69a6dbd000",
   "metadata": {},
   "outputs": [],
   "source": [
    "color_stops = create_color_stops([0,1,2,3,4,5,6], colors='YlGnBu')\n",
    "\n",
    "viz = ChoroplethViz('iceye_breaks', \n",
    "                    access_token=token, \n",
    "                    color_property = 'naturalBreaks', \n",
    "                    color_stops = color_stops, \n",
    "                    center = (13.7, 100.6), \n",
    "                    zoom=11)"
   ]
  },
  {
   "cell_type": "code",
   "execution_count": null,
   "id": "1a103211-2eb3-4803-b843-8a83b6b912e2",
   "metadata": {},
   "outputs": [],
   "source": []
  },
  {
   "cell_type": "markdown",
   "id": "4db3faaa-921a-453d-b210-b15c4365f39f",
   "metadata": {},
   "source": [
    " "
   ]
  },
  {
   "cell_type": "markdown",
   "id": "bfeb786e-e8ac-464f-b964-eccaa6e65c9a",
   "metadata": {
    "jp-MarkdownHeadingCollapsed": true,
    "tags": []
   },
   "source": [
    "### LEAFMAP"
   ]
  },
  {
   "cell_type": "code",
   "execution_count": null,
   "id": "6da2db22-7d98-4dd9-93c3-f038d607f4d5",
   "metadata": {},
   "outputs": [],
   "source": []
  },
  {
   "cell_type": "code",
   "execution_count": null,
   "id": "5a49e55c-92e4-4c33-8a2a-dc9f4c198f6f",
   "metadata": {},
   "outputs": [],
   "source": []
  },
  {
   "cell_type": "code",
   "execution_count": null,
   "id": "7e710e12-1845-4f3c-9d96-86093621b660",
   "metadata": {},
   "outputs": [],
   "source": [
    "import os\n",
    "import leafmap.leafmap as leafmap"
   ]
  },
  {
   "cell_type": "code",
   "execution_count": null,
   "id": "e527cd59-6bf6-4aae-8433-4e9ce4c184d6",
   "metadata": {},
   "outputs": [],
   "source": [
    "#out_dir = os.path.expanduser('~/Yliopisto/Gradu/Data/ICEYE/')\n",
    "\n",
    "#if not os.path.exists(out_dir):\n",
    "    #os.makedirs(out_dir)\n",
    "\n",
    "#flood_raster = os.path.join(out_dir, 'Bangkok_iceye.tif')"
   ]
  },
  {
   "cell_type": "code",
   "execution_count": null,
   "id": "9cc8a9f9-e6c3-4c74-9318-36e839a71c38",
   "metadata": {},
   "outputs": [],
   "source": [
    "out_dir = os.path.expanduser('~/Yliopisto/Gradu/Data/ICEYE/')\n",
    "\n",
    "if not os.path.exists(out_dir):\n",
    "    os.makedirs(out_dir)\n",
    "\n",
    "flood_raster = os.path.join(out_dir, 'Bangkok_iceye.tif')"
   ]
  },
  {
   "cell_type": "code",
   "execution_count": null,
   "id": "838b5e19-3a97-4ba7-8370-06907db20860",
   "metadata": {},
   "outputs": [],
   "source": [
    "Map = leafmap.Map()"
   ]
  },
  {
   "cell_type": "code",
   "execution_count": null,
   "id": "3985c85e-09b9-42e3-b7d3-a98b0deb8207",
   "metadata": {},
   "outputs": [],
   "source": [
    "Map.add_raster(flood_raster, colormap='coolwarm', layer_name='Flood')"
   ]
  },
  {
   "cell_type": "code",
   "execution_count": null,
   "id": "22ce1783-1ef3-4823-b48d-2d8237a90fd0",
   "metadata": {},
   "outputs": [],
   "source": [
    "Map.to_html('Thesis_map.html')"
   ]
  },
  {
   "cell_type": "code",
   "execution_count": null,
   "id": "e89e1ab4-0c9d-4b21-b471-e2d280c5e0f0",
   "metadata": {},
   "outputs": [],
   "source": []
  },
  {
   "cell_type": "code",
   "execution_count": null,
   "id": "d729938e-c640-420a-8266-b0a39e56dd33",
   "metadata": {},
   "outputs": [],
   "source": []
  },
  {
   "cell_type": "markdown",
   "id": "f6c1fe21-b0d2-45ad-9905-33017398d2c4",
   "metadata": {
    "jp-MarkdownHeadingCollapsed": true,
    "tags": []
   },
   "source": [
    "### KEPLER"
   ]
  },
  {
   "cell_type": "code",
   "execution_count": null,
   "id": "ee41cda6-f2a3-4155-8f20-fa11edd1a10e",
   "metadata": {},
   "outputs": [],
   "source": [
    "from keplergl import KeplerGl\n",
    "map_1 = KeplerGl()"
   ]
  }
 ],
 "metadata": {
  "kernelspec": {
   "display_name": "Python 3 (ipykernel)",
   "language": "python",
   "name": "python3"
  },
  "language_info": {
   "codemirror_mode": {
    "name": "ipython",
    "version": 3
   },
   "file_extension": ".py",
   "mimetype": "text/x-python",
   "name": "python",
   "nbconvert_exporter": "python",
   "pygments_lexer": "ipython3",
   "version": "3.9.0"
  }
 },
 "nbformat": 4,
 "nbformat_minor": 5
}
